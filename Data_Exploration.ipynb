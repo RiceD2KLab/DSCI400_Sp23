{
  "nbformat": 4,
  "nbformat_minor": 0,
  "metadata": {
    "colab": {
      "provenance": []
    },
    "kernelspec": {
      "name": "python3",
      "display_name": "Python 3"
    },
    "language_info": {
      "name": "python"
    }
  },
  "cells": [
    {
      "cell_type": "markdown",
      "source": [
        "## Table of Contents:\n",
        "1. [Load in the Data](#first)\n",
        "2. [Create Text Matrices](#second)\n",
        "3. [Vectorize Text Matrices](#third)\n",
        "4. [Examing Distribution of All Variables](#fourth)\n",
        "5. [Exploring Demographic Features](#fifth)\n",
        "6. [Exploring Work Logistics Features](#sixth)\n",
        "7. [Apriori Algorithm](#seventh)\n"
      ],
      "metadata": {
        "id": "8-a2beyn7njD"
      }
    },
    {
      "cell_type": "code",
      "source": [
        "%load_ext autoreload\n",
        "%autoreload 2\n",
        "\n"
      ],
      "metadata": {
        "id": "X6WPy2ZVTEFK"
      },
      "execution_count": null,
      "outputs": []
    },
    {
      "cell_type": "code",
      "source": [
        "#Assuming you are using Google Colab, running this cell will clone the entire repository into Colab\n",
        "!git clone https://github.com/RiceD2KLab/DSCI400_Sp23.git"
      ],
      "metadata": {
        "id": "hV0puMEY5Zgt"
      },
      "execution_count": null,
      "outputs": []
    },
    {
      "cell_type": "code",
      "source": [
        "#Go to repository folder containing Jupyter notebooks and python files to run\n",
        "%cd DSCI400_Sp23"
      ],
      "metadata": {
        "id": "dos67lD5T9OP"
      },
      "execution_count": null,
      "outputs": []
    },
    {
      "cell_type": "code",
      "source": [
        "#Import all functions defined for data cleaning and data vectorization\n",
        "from data_cleaning_functions import *\n",
        "from data_vectorization_function import *"
      ],
      "metadata": {
        "id": "piOxjFfIQFwH"
      },
      "execution_count": null,
      "outputs": []
    },
    {
      "cell_type": "code",
      "execution_count": null,
      "metadata": {
        "id": "_owP1bVS5S7I"
      },
      "outputs": [],
      "source": [
        "#Import necessary modules\n",
        "import pandas as pd\n",
        "import numpy as np\n",
        "import matplotlib.pyplot as plt"
      ]
    },
    {
      "cell_type": "markdown",
      "source": [
        "#Load in the Data <a name=\"first\"></a>\n",
        "\n",
        "Before loading in our data, we wanted to find the shared questions (features) across all years. Using the 2016 csv OSMI dataset, we assigned an integer to each question. For each question from 2016, we went through the 2017-2021 datasets to find questions that asked the same things (even if the wording was slightly different) and assigned shared questions across all years the same integer. If a question did not appear in all years from 2016-2021 surveys, that question did not get assigned an integer. A row containing these integers was added as the first row in each year's dataset.\n"
      ],
      "metadata": {
        "id": "iAiZtnKs6p0Y"
      }
    },
    {
      "cell_type": "code",
      "source": [
        "#Load in raw data csv's updated with row containing number labels\n",
        "#Download 2016-2021 csv files from data folder in github repository\n",
        "#Click on \"Files\" tab on left-hand side and upload 2016-2021 csv files \n",
        "\n",
        "df2016Updated = pd.read_csv('/content/2016updated.csv')\n",
        "df2017Updated = pd.read_csv('/content/2017updated.csv')\n",
        "df2018Updated = pd.read_csv('/content/2018updated.csv')\n",
        "df2019Updated = pd.read_csv('/content/2019updated.csv')\n",
        "df2020Updated = pd.read_csv('/content/2020updated.csv')\n",
        "df2021Updated = pd.read_csv('/content/2021updated.csv')"
      ],
      "metadata": {
        "id": "35CwimeS6Dd2"
      },
      "execution_count": null,
      "outputs": []
    },
    {
      "cell_type": "markdown",
      "source": [
        "#Create Text Matrices <a name=\"second\"></a>\n",
        "\n",
        "Use makeTextMatrix, makePreCovidMatrix, and makeDuringCovidMatrix functions defined in data_cleaning_functions python file to create combined text, precovid, and during covid dataframes.\n",
        "\n"
      ],
      "metadata": {
        "id": "bGbBAIk573bO"
      }
    },
    {
      "cell_type": "code",
      "source": [
        "#Create combined text matrix of all 6 years\n",
        "dfCombined = makeTextMatrix(df2016Updated, df2017Updated, df2018Updated, df2019Updated, df2020Updated, df2021Updated)\n",
        "\n",
        "#Create precovid matrix concatenating 2016-2019 years' data\n",
        "dfPreCovid = makePreCovidMatrix(df2016Updated, df2017Updated, df2018Updated, df2019Updated)\n",
        "\n",
        "#Create during matrix concatenating 2020-2021 years' data\n",
        "dfDuringCovid = makeDuringCovidMatrix(df2020Updated, df2021Updated)\n",
        "\n",
        "#filter out features with more than 30% null values\n",
        "dfCombinedFinal, dfPreCovidFinal, dfDuringCovidFinal = filterNull(dfCombined, dfPreCovid, dfDuringCovid)\n"
      ],
      "metadata": {
        "id": "PnPT1WUlaCRq"
      },
      "execution_count": null,
      "outputs": []
    },
    {
      "cell_type": "markdown",
      "source": [
        "#Vectorize Text Matrices <a name=\"third\"></a>\n",
        "\n",
        "For each of the three dataframes, we convert the categorical text responses into into numerical ones.\n",
        "\n"
      ],
      "metadata": {
        "id": "m2eVtZJkjB4h"
      }
    },
    {
      "cell_type": "code",
      "source": [
        "dfCombinedVectorized = vectorizeDataframe(dfCombinedFinal)\n",
        "dfCombinedVectorized"
      ],
      "metadata": {
        "id": "hThSA9Q8q6c3"
      },
      "execution_count": null,
      "outputs": []
    },
    {
      "cell_type": "code",
      "source": [
        "dfPreCovidVectorized = vectorizeDataframe(dfPreCovidFinal)\n",
        "dfPreCovidVectorized"
      ],
      "metadata": {
        "id": "NHaRyrC7ixbq"
      },
      "execution_count": null,
      "outputs": []
    },
    {
      "cell_type": "code",
      "source": [
        "dfDuringCovidVectorized = vectorizeDataframe(dfDuringCovidFinal)\n",
        "dfDuringCovidVectorized"
      ],
      "metadata": {
        "id": "s9fu6n7s5cLH"
      },
      "execution_count": null,
      "outputs": []
    },
    {
      "cell_type": "markdown",
      "source": [
        "The dataframe representing years during covid (2020-2021) is extremely small after removing rows with NA values. It only contains 161 responses, which is significantly less than the 1879 responses in the precovid dataframe. Thus, moving forward, we will focus our efforts on data exploration and machine learning modeling on the combined dataframe with all 6 years. To accurately explore the effect of Covid-19 on mental health in tech workers by comparing pre-covid vs during covid data, in the future, we would need to add a lot more responses to the during covid dataframe, perhaps collected from a source outside of OSMI."
      ],
      "metadata": {
        "id": "gngGhPxmyD0o"
      }
    },
    {
      "cell_type": "markdown",
      "source": [
        "#Examing Distribution of All Variables <a name=\"fourth\"></a>\n",
        "\n",
        "For each variable in the combined dataframe, we will look at a histogram of its distribution (i.e., the distribution of responses to each survey question). \n",
        "\n"
      ],
      "metadata": {
        "id": "0OCr00enwTc1"
      }
    },
    {
      "cell_type": "code",
      "source": [
        "#Graph distribution of responses in output variable\n",
        "column_name = '45'\n",
        "\n",
        "# Count the occurrences of 0s and 1s in the selected column\n",
        "value_counts = dfCombinedVectorized[column_name].value_counts()\n",
        "\n",
        "colors = ['red', 'green']\n",
        "\n",
        "\n",
        "plt.bar(value_counts.index, value_counts.values, color=colors)\n",
        "plt.xlabel('Response')\n",
        "plt.ylabel('Frequency')\n",
        "plt.title(f'Histogram of \"Do you currently have a mental health disorder?\"')\n",
        "plt.xticks(list(value_counts.index), ['No', 'Yes'])  # Set the x-axis ticks to display as '0' and '1'\n",
        "plt.show()"
      ],
      "metadata": {
        "id": "W-FHBP2UAeDh"
      },
      "execution_count": null,
      "outputs": []
    },
    {
      "cell_type": "markdown",
      "source": [
        "We first focused on the distribution of the output variable, \"Do you currently have a mental health disorder?\" We can see that the output variable was successfully made binary. Because \"No\" represents no, don't know, maybe, and possibly, it makes sense why there are no \"No\" responses than \"Yes\" responses. However, the distribution is not terribly skewed or uneven. "
      ],
      "metadata": {
        "id": "_BCuE2oSA0rS"
      }
    },
    {
      "cell_type": "code",
      "source": [
        "#Create a histogram of each feature\n",
        "for col in dfCombinedVectorized.columns:\n",
        "    plt.figure(figsize=(4, 3))  # create a larger figure\n",
        "    plt.hist(dfCombinedVectorized[col], bins=10, color='skyblue', alpha=0.75)  # customize color and transparency\n",
        "    plt.title(f'Histogram of {col}')\n",
        "    plt.xlabel(col)\n",
        "    plt.ylabel('Frequency')\n",
        "    plt.grid(axis='y', alpha=0.75)  # add a grid\n",
        "    plt.xticks(rotation=45)\n",
        "    plt.show()"
      ],
      "metadata": {
        "id": "LCbwU21Kyq95"
      },
      "execution_count": null,
      "outputs": []
    },
    {
      "cell_type": "markdown",
      "source": [
        "Looking at histograms of 1 and 25, we noticed that there was only 1 response type for both. Thus, we dropped these features. Feature 1 asks \"Are you self-employed?\" and feature 25 asks \"Do you have previous employers?\". Answering yes to being self-empoyed and/or no to having previous employers prevents you from being able to answer many of the other survey questions. It then makes sense that after dropping rows with NA values, features 1 and 25 only have 1 response type."
      ],
      "metadata": {
        "id": "AxYoSWe53pEa"
      }
    },
    {
      "cell_type": "code",
      "source": [
        "#dropping features 1 and 25 from the combined dataframe\n",
        "dfCombinedVectorized.drop('1', axis=1, inplace=True)\n",
        "dfCombinedVectorized.drop('25', axis=1, inplace=True)\n",
        "dfCombinedVectorized"
      ],
      "metadata": {
        "id": "3MGKEPDc1KtL"
      },
      "execution_count": null,
      "outputs": []
    },
    {
      "cell_type": "markdown",
      "source": [
        "Looking more into the exact wording of the survey questions left, we noticed that features 51 and 52 can only be answered if a responsdent has a mental health issue. Feature 51 asks \"If you have a mental health issue, do you feel that it interferes with your work when being treated effectively?\" and feature 52 asks \"If you have a mental health issue, do you feel that it interferes with your work when NOT being treated effectively?\". Thus, they are not helpful in building models for predicting whether a tech worker currently has a mental health disorder. "
      ],
      "metadata": {
        "id": "vlX4bz6V4v-q"
      }
    },
    {
      "cell_type": "code",
      "source": [
        "#dropping features 51 and 52 from the combined dataframe\n",
        "dfCombinedVectorized.drop('51', axis=1, inplace=True)\n",
        "dfCombinedVectorized.drop('52', axis=1, inplace=True)\n",
        "dfCombinedVectorized"
      ],
      "metadata": {
        "id": "kCWK3oac5KQ2"
      },
      "execution_count": null,
      "outputs": []
    },
    {
      "cell_type": "markdown",
      "source": [
        "#Exploring Demographic Features <a name=\"fifth\"></a>\n",
        "\n",
        "We wanted to explore demographic features like age and gender more, as they can inform tech companies of certain demographic groups that are at higher risk to have mental health issues. \n",
        "\n"
      ],
      "metadata": {
        "id": "TaIp7Syj8c4l"
      }
    },
    {
      "cell_type": "code",
      "source": [
        "#Graphing percentage of respondents who have mental health issues when grouped by age range\n",
        "\n",
        "outputColumn = '45' \n",
        "ageColumn = '53'\n",
        "\n",
        "# Filter the rows where the output variable is 'yes'\n",
        "yesResponses = dfCombinedVectorized[dfCombinedVectorized[outputColumn] == 1]\n",
        "\n",
        "# Calculate the total number of responses\n",
        "totalResponses = len(dfCombinedVectorized)\n",
        "\n",
        "# Group the yes responses by age range\n",
        "ageGroups = yesResponses.groupby(pd.cut(yesResponses[ageColumn], bins=[18, 25, 35, 45, 55, 65, 120], right=False)).size()\n",
        "\n",
        "# Calculate the percentage of yes responses out of total responses for each age group\n",
        "percbyAge = ageGroups / totalResponses\n",
        "\n",
        "# Create a bar plot of the percentage by age range\n",
        "plt.bar(percbyAge.index.astype(str), percbyAge.values)\n",
        "\n",
        "# Set the labels and title\n",
        "plt.xlabel('Age Range')\n",
        "plt.ylabel('Proportion Having Mental Health Issue')\n",
        "plt.title('Proportion of Respondents Having Mental Health Issue by Age')\n",
        "\n",
        "# Show the bar plot\n",
        "plt.show()"
      ],
      "metadata": {
        "id": "vp92oiWT5P3O"
      },
      "execution_count": null,
      "outputs": []
    },
    {
      "cell_type": "code",
      "source": [
        " #Graphing percentage of respondents who have mental health issues when grouped by gender\n",
        "\n",
        "# Define the column names\n",
        "outputColumn = '45' \n",
        "genderColumn = '54'  # Replace with the name of your gender column\n",
        "\n",
        "# Filter the rows where the output variable is 'yes'\n",
        "yesResponses = dfCombinedVectorized[dfCombinedVectorized[outputColumn] == 1]\n",
        "\n",
        "# Calculate the total number of responses\n",
        "totalResponses = len(dfCombinedVectorized)\n",
        "\n",
        "# Group the yes responses by gender\n",
        "genderGroups = yesResponses[genderColumn].value_counts()\n",
        "\n",
        "# Calculate the percentage of yes responses out of total responses for each gender\n",
        "percbyGender = genderGroups / totalResponses\n",
        "\n",
        "# Create a bar plot of the percentage by gender\n",
        "plt.bar(percbyGender.index, percbyGender.values)\n",
        "\n",
        "# Set the labels and title\n",
        "plt.xlabel('Gender')\n",
        "plt.ylabel('Proportion Having Mental Health Issue')\n",
        "plt.title('Proportion of Respondents Having Mental Health Issue by Gender')\n",
        "\n",
        "# Define custom x-axis tick labels\n",
        "plt.xticks(ticks=percbyGender.index, labels=['Male', 'Female', 'Other'])  \n",
        "\n",
        "# Show the bar plot\n",
        "plt.show()\n"
      ],
      "metadata": {
        "id": "4nt18kcf96Yz"
      },
      "execution_count": null,
      "outputs": []
    },
    {
      "cell_type": "markdown",
      "source": [
        "#Exploring Work Logistics Features <a name=\"sixth\"></a>\n",
        "\n",
        "We wanted to explore some work logistics features, as they can inform tech companies of how to best structure their workplace environment and culture to improve mental health for tech workers. \n",
        "\n"
      ],
      "metadata": {
        "id": "odHPxllCJYnJ"
      }
    },
    {
      "cell_type": "code",
      "source": [
        "#Feature 8 is \"Does your employer offer resources to learn more about mental health concerns and options for seeking help?\"\n",
        "#Graphing percentage of respondents who have mental health issues when grouped by response to feature 8\n",
        "\n",
        "\n",
        "# Define the column names\n",
        "outputColumn = '45'  \n",
        "feature8Column = '8' \n",
        "\n",
        "# Filter the rows where the output variable is 'yes'\n",
        "yesResponses = dfCombinedVectorized[dfCombinedVectorized[outputColumn] == 1]\n",
        "\n",
        "# Calculate the total number of responses\n",
        "totalResponses = len(dfCombinedVectorized)\n",
        "\n",
        "# Group the yes responses by response to feature 8\n",
        "feature8Groups = yesResponses[feature8Column].value_counts()\n",
        "\n",
        "# Calculate the percentage of yes responses out of total responses for each response option to feature 8\n",
        "percbyFeature8 = feature8Groups / totalResponses\n",
        "\n",
        "# Create a bar plot of the percentage by country\n",
        "plt.bar(percbyFeature8.index, percbyFeature8.values)\n",
        "\n",
        "# Set the labels and title\n",
        "plt.xlabel('Response')\n",
        "plt.ylabel('Proportion Having Mental Health Issue')\n",
        "plt.title('Mental Health Prevalence and Employer Provided Resources')\n",
        "\n",
        "# Define custom x-axis tick labels\n",
        "plt.xticks(ticks=percbyFeature8.index, labels=['I don\\'t know', 'No', 'Yes'])\n",
        "\n",
        "# Show the bar plot\n",
        "plt.show()\n"
      ],
      "metadata": {
        "id": "eljmCtIe-hAu"
      },
      "execution_count": null,
      "outputs": []
    },
    {
      "cell_type": "code",
      "source": [
        "#Feature 10 is \"If a mental health issue prompted you to request a medical leave from work, asking for that leave would be:\"\n",
        "#Graphing percentage of respondents who have mental health issues when grouped by response to feature 10\n",
        "\n",
        "# Define the column names\n",
        "outputColumn = '45'  \n",
        "feature10Column = '10' \n",
        "\n",
        "# Filter the rows where the output variable is 'yes'\n",
        "yesResponses = dfCombinedVectorized[dfCombinedVectorized[outputColumn] == 1]\n",
        "\n",
        "# Calculate the total number of responses\n",
        "totalResponses = len(dfCombinedVectorized)\n",
        "\n",
        "# Group the yes responses by response to feature 10\n",
        "feature10Groups = yesResponses[feature10Column].value_counts()\n",
        "\n",
        "# Calculate the percentage of yes responses out of total responses for each response option to feature 10\n",
        "percbyFeature10 = feature10Groups / totalResponses\n",
        "\n",
        "# Create a bar plot of the percentage by country\n",
        "plt.bar(percbyFeature10.index, percbyFeature10.values)\n",
        "\n",
        "# Set the labels and title\n",
        "plt.xlabel('Response')\n",
        "plt.ylabel('Proportion Having Mental Health Issue')\n",
        "plt.title('Mental Health Prevalence and Asking for Leave')\n",
        "\n",
        "# Define custom x-axis tick labels\n",
        "plt.xticks(ticks=percbyFeature10.index, labels=['I don\\'t know', 'Very easy', 'Somewhat easy', 'Neither easy nor difficult', 'Somewhat difficult', 'Difficult', 'Very difficult'], rotation=90)\n",
        "\n",
        "# Show the bar plot\n",
        "plt.show()"
      ],
      "metadata": {
        "id": "sGHFwkHYFd1p"
      },
      "execution_count": null,
      "outputs": []
    },
    {
      "cell_type": "code",
      "source": [
        "#Feature 28 is \"Did your previous employers ever formally discuss mental health (as part of a wellness campaign or other official communication)?\"\n",
        "#Graphing percentage of respondents who have mental health issues when grouped by response to feature 28\n",
        "\n",
        "# Define the column names\n",
        "outputColumn = '45'  \n",
        "feature28Column = '28' \n",
        "\n",
        "# Filter the rows where the output variable is 'yes'\n",
        "yesResponses = dfCombinedVectorized[dfCombinedVectorized[outputColumn] == 1]\n",
        "\n",
        "# Calculate the total number of responses\n",
        "totalResponses = len(dfCombinedVectorized)\n",
        "\n",
        "# Group the yes responses by response to feature 28\n",
        "feature28Groups = yesResponses[feature28Column].value_counts()\n",
        "\n",
        "# Calculate the percentage of yes responses out of total responses for each response option to feature 28\n",
        "percbyFeature28 = feature28Groups / totalResponses\n",
        "\n",
        "# Create a bar plot of the percentage by country\n",
        "plt.bar(percbyFeature28.index, percbyFeature28.values)\n",
        "\n",
        "# Set the labels and title\n",
        "plt.xlabel('Response')\n",
        "plt.ylabel('Proportion Having Mental Health Issue')\n",
        "plt.title('Mental Health Prevalence and Mental Health Discussion')\n",
        "\n",
        "# Define custom x-axis tick labels \n",
        "plt.xticks(ticks=percbyFeature28.index, labels=['None did', 'Some did', 'Yes, they all did', 'I don\\'t know'], rotation=90)\n",
        "\n",
        "# Show the bar plot\n",
        "plt.show()"
      ],
      "metadata": {
        "id": "4EMBiDeW_gxp"
      },
      "execution_count": null,
      "outputs": []
    },
    {
      "cell_type": "markdown",
      "source": [
        "#Apriori Algorithm <a name=\"seventh\"></a>\n",
        "\n",
        "We leveraged the apriori algorithm, an association algorithm that identifies certain responses to specific survey questions that frequently co-occur together. We specifically wanted to find responses that co-occur with answering \"yes\" to currently having a mental health disorder.\n",
        "\n"
      ],
      "metadata": {
        "id": "pzP4gwGdKsC6"
      }
    },
    {
      "cell_type": "code",
      "source": [
        "!pip install efficient-apriori\n",
        "from efficient_apriori import apriori, Rule"
      ],
      "metadata": {
        "id": "OEWf-rEpI5P3"
      },
      "execution_count": null,
      "outputs": []
    },
    {
      "cell_type": "code",
      "source": [
        "#To run the apriori algorithm, we need to convert our dataframe into a list of tupules, where each tupule represents a respondent's answers to each question\n",
        "transactionMatrix = []\n",
        "for i in range (0,2040):\n",
        "  rowElement = dfCombinedVectorized.iloc[i]\n",
        "  temporaryList= []\n",
        "  for colIndex in range (0,26):\n",
        "    eachElement = rowElement[colIndex]\n",
        "    questionNumber = dfCombinedVectorized.columns[colIndex]\n",
        "    temporaryList.append(str(questionNumber) + \"= \" + str(eachElement)  )\n",
        "  transactionMatrix.append(tuple(temporaryList))"
      ],
      "metadata": {
        "id": "R59f2LzANjoy"
      },
      "execution_count": null,
      "outputs": []
    },
    {
      "cell_type": "code",
      "source": [
        "#Running apriori algorithm with minimum support and confidence thresholds low enough to generate a substantial list of association rules\n",
        "itemsets, rules = apriori(transactionMatrix, min_support=0.1, min_confidence=0.6)\n",
        "\n",
        "#Filter for rules where answering yes to currently having a mental health disorder is on the right hand side of the association rule\n",
        "rulesImportant = [rule for rule in rules if '45= 1' in rule.rhs]\n",
        "\n",
        "#Sort important rules by descending order of support values\n",
        "rulesSorted = sorted(rulesImportant, key=lambda x: x.support, reverse=True)\n",
        "for rule in rulesSorted:\n",
        "    print(rule)\n",
        "    print(rule.support)\n",
        "    print(\"=====================================\")"
      ],
      "metadata": {
        "id": "z6pqW4WuN8dP"
      },
      "execution_count": null,
      "outputs": []
    },
    {
      "cell_type": "markdown",
      "source": [
        "The association rules with the highest support values, although having good association strengths, do not reveal anything too useful or interesting. They mainly show rules suggesting a strong association between having a medical history of mental health and currently having a mental health disorder."
      ],
      "metadata": {
        "id": "Rd5sfmvSSgIQ"
      }
    },
    {
      "cell_type": "code",
      "source": [
        "#Previous histogram showing distribution of feature 28 suggests that not having a mental health discussion with previous employers associates with greater percentage of respondents having mental health issues\n",
        "#Filtering rulesImportant even further by looking for rules where answering yes to mental health being discussed is on the left side\n",
        "rulesWorkLog = [rule for rule in rulesImportant if '28= 1.0' in rule.lhs]\n",
        "rulesSorted = sorted(rulesWorkLog, key=lambda x: x.support, reverse=True)\n",
        "for rule in rulesSorted:\n",
        "    print(rule)\n",
        "    print(rule.support)\n",
        "    print(\"=====================================\")"
      ],
      "metadata": {
        "id": "lJ_bAOgmOLQT"
      },
      "execution_count": null,
      "outputs": []
    },
    {
      "cell_type": "code",
      "source": [
        "#Filtering rulesImportant even further by looking for rules where answering no to mental health being discussed is on the left side\n",
        "rulesWorkLog = [rule for rule in rulesImportant if '28= 0.0' in rule.lhs]\n",
        "rulesSorted = sorted(rulesWorkLog, key=lambda x: x.support, reverse=True)\n",
        "for rule in rulesSorted:\n",
        "    print(rule)\n",
        "    print(rule.support)\n",
        "    print(\"=====================================\")"
      ],
      "metadata": {
        "id": "H9GyCxezTQFN"
      },
      "execution_count": null,
      "outputs": []
    }
  ]
}