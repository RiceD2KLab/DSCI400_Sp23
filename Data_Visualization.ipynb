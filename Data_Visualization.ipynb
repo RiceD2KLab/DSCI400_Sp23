{
  "nbformat": 4,
  "nbformat_minor": 0,
  "metadata": {
    "colab": {
      "provenance": []
    },
    "kernelspec": {
      "name": "python3",
      "display_name": "Python 3"
    },
    "language_info": {
      "name": "python"
    }
  },
  "cells": [
    {
      "cell_type": "markdown",
      "source": [
        "## Table of Conents:\n",
        "1. [Load in the Data](#first)\n",
        "2. [Filter Out Rows with Null Values](#second)\n",
        "3. [Create a Histogram of each Feature](#third)\n",
        "4. [Create a Heatmap of the Correlation Matrix](#fourth)"
      ],
      "metadata": {
        "id": "UYI6V6hq94oe"
      }
    },
    {
      "cell_type": "code",
      "source": [
        "#important necessary modules\n",
        "%load_ext autoreload\n",
        "%autoreload 2\n",
        "from functions.Data_Cleaning_Function import *\n",
        "from functions.Data_Vectorization_Function import *\n",
        "import pandas as pd\n",
        "import numpy as np\n",
        "import matplotlib.pyplot as plt\n",
        "import seaborn as sns"
      ],
      "metadata": {
        "id": "aVpEBbxc93nu"
      },
      "execution_count": null,
      "outputs": []
    },
    {
      "cell_type": "markdown",
      "source": [
        "# Load in Data <a name=\"first\"></a>\n",
        "\n",
        "Before loading in our data, we found the shared questions throughout the years in the \"Data Cleaning Main\" notebook. We assigned integers to map the questions to each other and if a question did not appear in all years from 2016-2021 surveys, that question did not get assigned an integer. Finally, this data is unvectorized as it will be more useful for visualizations.\n"
      ],
      "metadata": {
        "id": "MSzTM6Vy-ADX"
      }
    },
    {
      "cell_type": "code",
      "source": [
        "# load in raw data csv's updated with row containing number labels\n",
        "\n",
        "#'2016datafilepath' is a placeholder for the path to the 2016updated CSV file as it appears on your computer\n",
        "df2016Updated = pd.read_csv('2016datafilepath.csv')\n",
        "\n",
        "#'2017datafilepath' is a placeholder for the path to the 2017updated CSV file as it appears on your computer\n",
        "df2017Updated = pd.read_csv('2017datafilepath.csv')\n",
        "\n",
        "#'2018datafilepath' is a placeholder for the path to the 2018updated CSV file as it appears on your computer\n",
        "df2018Updated = pd.read_csv('2018datafilepath.csv')\n",
        "\n",
        "#'2019datafilepath' is a placeholder for the path to the 2019updated CSV file as it appears on your computer\n",
        "df2019Updated = pd.read_csv('2019datafilepath.csv')\n",
        "\n",
        "#'2020datafilepath' is a placeholder for the path to the 2020updated CSV file as it appears on your computer\n",
        "df2020Updated = pd.read_csv('2020datafilepath.csv')\n",
        "\n",
        "#'2021datafilepath' is a placeholder for the path to the 2021updated CSV file as it appears on your computer\n",
        "df2021Updated = pd.read_csv('2021datafilepath.csv')"
      ],
      "metadata": {
        "id": "xUmZNpdMd-Sm"
      },
      "execution_count": null,
      "outputs": []
    },
    {
      "cell_type": "code",
      "source": [
        "dfCombinedText = makeTextMatrix(df2016Updated, df2017Updated, df2018Updated, df2019Updated, df2020Updated, df2021Updated)\n",
        "dfVectorized = vectorizeTextMatrix(dfCombinedText)\n",
        "\n",
        "\n"
      ],
      "metadata": {
        "id": "_E5TsnlHeBsC"
      },
      "execution_count": null,
      "outputs": []
    },
    {
      "cell_type": "markdown",
      "source": [
        "# Filter Out Rows with Null Values <a name=\"second\"></a>\n",
        "\n",
        "Before visualizing out data, we got rid of any rows that have missing values."
      ],
      "metadata": {
        "id": "XozFapBU-NID"
      }
    },
    {
      "cell_type": "code",
      "source": [
        "#drop rows with NA values from combined text matrix\n",
        "dfCombinedText = dfCombinedText.dropna(how='any')\n",
        "dfCombinedText"
      ],
      "metadata": {
        "id": "wyubCYd_epCh"
      },
      "execution_count": null,
      "outputs": []
    },
    {
      "cell_type": "markdown",
      "source": [
        "# Create a Histogram of each Feature <a name=\"third\"></a>\n",
        "\n",
        "In order to exploring our dataset, it will be beneficial to understand how each of our features are distributed. As a result, we wrote the following function to create a simple histogram of each variable."
      ],
      "metadata": {
        "id": "yyxPBtHG-RH4"
      }
    },
    {
      "cell_type": "code",
      "source": [
        "#Create a histogram of each variable\n",
        "for col in dfCombinedText.columns:\n",
        "    plt.figure(figsize=(4, 3))  # create a larger figure\n",
        "    plt.hist(dfCombinedFinal[col], bins=10, color='skyblue', alpha=0.75)  # customize color and transparency\n",
        "    plt.title(f'Histogram of {col}')\n",
        "    plt.xlabel(col)\n",
        "    plt.ylabel('Frequency')\n",
        "    plt.grid(axis='y', alpha=0.75)  # add a grid\n",
        "    plt.xticks(rotation=45)\n",
        "    plt.show()"
      ],
      "metadata": {
        "id": "TRfmHTDW-RjI"
      },
      "execution_count": null,
      "outputs": []
    },
    {
      "cell_type": "markdown",
      "source": [
        "# Create a Heatmap of the Correlation Matrix <a name=\"fourth\"></a>\n",
        "\n",
        "Now that we have visualized the distrubitions in our variables, it is important to understand how they correlate to each other and to the independent variable. As a result, we wrote the following code to create a correlation heatmap of the whole dataset."
      ],
      "metadata": {
        "id": "n7dl9TFx-U_C"
      }
    },
    {
      "cell_type": "code",
      "source": [
        "#Create a heatmap of the correlation matrix of the vectorized dataframe\n",
        "plt.figure(figsize = (38,16))\n",
        "sns.heatmap(dfVectorized.corr(), annot = True)\n",
        "plt.savefig('heatmap.png')\n",
        "plt.show()"
      ],
      "metadata": {
        "id": "7kncVxGjfHB-"
      },
      "execution_count": null,
      "outputs": []
    }
  ]
}